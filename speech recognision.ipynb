{
 "cells": [
  {
   "cell_type": "code",
   "execution_count": 1,
   "id": "64f059e0",
   "metadata": {},
   "outputs": [
    {
     "name": "stderr",
     "output_type": "stream",
     "text": [
      "C:\\Users\\Abraham\\anaconda3\\envs\\speech_rec\\lib\\site-packages\\paramiko\\transport.py:219: CryptographyDeprecationWarning: Blowfish has been deprecated\n",
      "  \"class\": algorithms.Blowfish,\n"
     ]
    }
   ],
   "source": [
    "import os\n",
    "import pathlib\n",
    "\n",
    "import matplotlib.pyplot as plt\n",
    "import numpy as np\n",
    "import seaborn as sns\n",
    "import tensorflow as tf\n",
    "\n",
    "from tensorflow.keras import layers\n",
    "from tensorflow.keras import models\n",
    "from IPython import display\n",
    "import librosa\n",
    "import pandas as pd"
   ]
  },
  {
   "cell_type": "code",
   "execution_count": 2,
   "id": "cf478012",
   "metadata": {},
   "outputs": [],
   "source": [
    "DATASET_PATH = 'data/mini_speech_commands'\n",
    "\n",
    "data_dir = pathlib.Path(DATASET_PATH)\n",
    "if not data_dir.exists():\n",
    "  tf.keras.utils.get_file(\n",
    "      'mini_speech_commands.zip',\n",
    "      origin=\"http://storage.googleapis.com/download.tensorflow.org/data/mini_speech_commands.zip\",\n",
    "      extract=True,\n",
    "      cache_dir='.', cache_subdir='data')\n"
   ]
  },
  {
   "cell_type": "code",
   "execution_count": 3,
   "id": "e96a6ac9",
   "metadata": {},
   "outputs": [
    {
     "name": "stdout",
     "output_type": "stream",
     "text": [
      "Commands: ['down' 'go' 'left' 'no' 'right' 'stop' 'up' 'yes']\n"
     ]
    }
   ],
   "source": [
    "commands = np.array(tf.io.gfile.listdir(str(data_dir)))\n",
    "commands = commands[commands != 'README.md']\n",
    "print('Commands:', commands)"
   ]
  },
  {
   "cell_type": "code",
   "execution_count": 4,
   "id": "76ccf053",
   "metadata": {},
   "outputs": [
    {
     "name": "stdout",
     "output_type": "stream",
     "text": [
      "Processing speaker down\n",
      "Processing speaker go\n",
      "Processing speaker left\n",
      "Processing speaker no\n",
      "Processing speaker right\n",
      "Processing speaker stop\n",
      "Processing speaker up\n",
      "Processing speaker yes\n",
      "Found 8000 files belonging to 8 classes.\n"
     ]
    }
   ],
   "source": [
    "from pathlib import Path\n",
    "audio_paths = []\n",
    "labels = []\n",
    "for label, name in enumerate(commands):\n",
    "    print(\"Processing speaker {}\".format(name,))\n",
    "    dir_path = Path(DATASET_PATH) / name\n",
    "    speaker_sample_paths = [\n",
    "        os.path.join(dir_path, filepath)\n",
    "        for filepath in os.listdir(dir_path)\n",
    "        if filepath.endswith(\".wav\")\n",
    "    ]\n",
    "    audio_paths += speaker_sample_paths\n",
    "    labels += [label] * len(speaker_sample_paths)\n",
    "\n",
    "print(\n",
    "    \"Found {} files belonging to {} classes.\".format(len(audio_paths), len(commands))\n",
    ")"
   ]
  },
  {
   "cell_type": "code",
   "execution_count": null,
   "id": "c0bbd333",
   "metadata": {},
   "outputs": [],
   "source": [
    "import librosa.feature\n",
    "dataset = []\n",
    "y = []\n",
    "SAMPLE_RATE = 8000\n",
    "for x,i in enumerate(audio_paths) :\n",
    "    entry = []\n",
    "    sample, SAMPLE_RATE = librosa.load(i,sr=SAMPLE_RATE)\n",
    "    if(len(sample) == SAMPLE_RATE):\n",
    "        dataset.append(sample)\n",
    "        y.append(labels[x])"
   ]
  },
  {
   "cell_type": "code",
   "execution_count": null,
   "id": "50c035ca",
   "metadata": {},
   "outputs": [],
   "source": [
    "print(len(dataset))\n",
    "print(len(y))\n"
   ]
  },
  {
   "cell_type": "code",
   "execution_count": 78,
   "id": "28753270",
   "metadata": {},
   "outputs": [],
   "source": [
    "y= tf.keras.utils.to_categorical(y, num_classes=len(commands))"
   ]
  },
  {
   "cell_type": "code",
   "execution_count": 79,
   "id": "79da074b",
   "metadata": {},
   "outputs": [
    {
     "data": {
      "text/plain": [
       "(7178, 8)"
      ]
     },
     "execution_count": 79,
     "metadata": {},
     "output_type": "execute_result"
    }
   ],
   "source": [
    "y.shape"
   ]
  },
  {
   "cell_type": "code",
   "execution_count": 177,
   "id": "38fc5665",
   "metadata": {},
   "outputs": [
    {
     "data": {
      "text/plain": [
       "8000"
      ]
     },
     "execution_count": 177,
     "metadata": {},
     "output_type": "execute_result"
    }
   ],
   "source": [
    "len(dataset[0])"
   ]
  },
  {
   "cell_type": "markdown",
   "id": "46eab1f8",
   "metadata": {},
   "source": [
    "## Train Test Split"
   ]
  },
  {
   "cell_type": "code",
   "execution_count": 154,
   "id": "0d9ef6ed",
   "metadata": {},
   "outputs": [],
   "source": [
    "from sklearn.model_selection import train_test_split\n",
    "X_train,X_test,y_train,y_test=train_test_split(np.array(dataset).reshape(-1,8000,1),np.array(y),test_size=0.2,shuffle=True)"
   ]
  },
  {
   "cell_type": "code",
   "execution_count": 155,
   "id": "f47fe1ad",
   "metadata": {},
   "outputs": [],
   "source": [
    "from tensorflow.keras.layers import Input,Dense,Flatten,Conv1D,MaxPooling1D,Dropout\n",
    "from tensorflow.keras.models import Model\n",
    "from tensorflow.keras.callbacks import EarlyStopping,ModelCheckpoint"
   ]
  },
  {
   "cell_type": "markdown",
   "id": "4ddc284d",
   "metadata": {},
   "source": [
    "## CNN Model"
   ]
  },
  {
   "cell_type": "code",
   "execution_count": 156,
   "id": "06d9bdbb",
   "metadata": {},
   "outputs": [
    {
     "name": "stdout",
     "output_type": "stream",
     "text": [
      "Model: \"model_8\"\n",
      "_________________________________________________________________\n",
      " Layer (type)                Output Shape              Param #   \n",
      "=================================================================\n",
      " input_11 (InputLayer)       [(None, 8000, 1)]         0         \n",
      "                                                                 \n",
      " conv1d_28 (Conv1D)          (None, 7988, 8)           112       \n",
      "                                                                 \n",
      " max_pooling1d_28 (MaxPoolin  (None, 2662, 8)          0         \n",
      " g1D)                                                            \n",
      "                                                                 \n",
      " dropout_42 (Dropout)        (None, 2662, 8)           0         \n",
      "                                                                 \n",
      " conv1d_29 (Conv1D)          (None, 2652, 16)          1424      \n",
      "                                                                 \n",
      " max_pooling1d_29 (MaxPoolin  (None, 884, 16)          0         \n",
      " g1D)                                                            \n",
      "                                                                 \n",
      " dropout_43 (Dropout)        (None, 884, 16)           0         \n",
      "                                                                 \n",
      " conv1d_30 (Conv1D)          (None, 876, 32)           4640      \n",
      "                                                                 \n",
      " max_pooling1d_30 (MaxPoolin  (None, 292, 32)          0         \n",
      " g1D)                                                            \n",
      "                                                                 \n",
      " dropout_44 (Dropout)        (None, 292, 32)           0         \n",
      "                                                                 \n",
      " conv1d_31 (Conv1D)          (None, 286, 64)           14400     \n",
      "                                                                 \n",
      " max_pooling1d_31 (MaxPoolin  (None, 95, 64)           0         \n",
      " g1D)                                                            \n",
      "                                                                 \n",
      " dropout_45 (Dropout)        (None, 95, 64)            0         \n",
      "                                                                 \n",
      " flatten_8 (Flatten)         (None, 6080)              0         \n",
      "                                                                 \n",
      " dense_23 (Dense)            (None, 256)               1556736   \n",
      "                                                                 \n",
      " dropout_46 (Dropout)        (None, 256)               0         \n",
      "                                                                 \n",
      " dense_24 (Dense)            (None, 128)               32896     \n",
      "                                                                 \n",
      " dropout_47 (Dropout)        (None, 128)               0         \n",
      "                                                                 \n",
      " dense_25 (Dense)            (None, 8)                 1032      \n",
      "                                                                 \n",
      "=================================================================\n",
      "Total params: 1,611,240\n",
      "Trainable params: 1,611,240\n",
      "Non-trainable params: 0\n",
      "_________________________________________________________________\n"
     ]
    }
   ],
   "source": [
    "inputs=Input(shape=(8000,1))\n",
    "\n",
    "#First Conv1D layer\n",
    "conv = Conv1D(8,13, padding='valid', activation='relu', strides=1)(inputs)\n",
    "conv = MaxPooling1D(3)(conv)\n",
    "conv = Dropout(0.3)(conv)\n",
    "\n",
    "#Second Conv1D layer\n",
    "conv = Conv1D(16, 11, padding='valid', activation='relu', strides=1)(conv)\n",
    "conv = MaxPooling1D(3)(conv)\n",
    "conv = Dropout(0.3)(conv)\n",
    "\n",
    "#Third Conv1D layer\n",
    "conv = Conv1D(32, 9, padding='valid', activation='relu', strides=1)(conv)\n",
    "conv = MaxPooling1D(3)(conv)\n",
    "conv = Dropout(0.3)(conv)\n",
    "\n",
    "#Fourth Conv1D layer\n",
    "conv = Conv1D(64, 7, padding='valid', activation='relu', strides=1)(conv)\n",
    "conv = MaxPooling1D(3)(conv)\n",
    "conv = Dropout(0.3)(conv)\n",
    "\n",
    "#Flatten layer\n",
    "conv = Flatten()(conv)\n",
    "\n",
    "#Dense Layer 1\n",
    "conv = Dense(256, activation='relu')(conv)\n",
    "conv = Dropout(0.3)(conv)\n",
    "\n",
    "#Dense Layer 2\n",
    "conv = Dense(128, activation='relu')(conv)\n",
    "conv = Dropout(0.3)(conv)\n",
    "\n",
    "outputs = Dense(len(commands), activation='softmax')(conv)\n",
    "\n",
    "model = Model(inputs, outputs)\n",
    "model.summary()"
   ]
  },
  {
   "cell_type": "markdown",
   "id": "26820c81",
   "metadata": {},
   "source": [
    "### Compile Model"
   ]
  },
  {
   "cell_type": "code",
   "execution_count": 157,
   "id": "2b8b3866",
   "metadata": {},
   "outputs": [],
   "source": [
    "model.compile(loss='sparse_categorical_crossentropy',optimizer='rsmProp',metrics=['accuracy'])"
   ]
  },
  {
   "cell_type": "code",
   "execution_count": 158,
   "id": "de735639",
   "metadata": {},
   "outputs": [],
   "source": [
    "es = EarlyStopping(monitor='val_loss', mode='min', verbose=1, patience=10, min_delta=0.0001) \n",
    "mc = ModelCheckpoint('best_model.hdf5', monitor='val_acc', verbose=1, save_best_only=True, mode='max')"
   ]
  },
  {
   "cell_type": "code",
   "execution_count": 159,
   "id": "6a52a469",
   "metadata": {},
   "outputs": [
    {
     "name": "stdout",
     "output_type": "stream",
     "text": [
      "Epoch 1/50\n",
      "90/90 [==============================] - ETA: 0s - loss: 2.0511 - accuracy: 0.1731WARNING:tensorflow:Can save best model only with val_acc available, skipping.\n",
      "90/90 [==============================] - 31s 335ms/step - loss: 2.0511 - accuracy: 0.1731 - val_loss: 2.0202 - val_accuracy: 0.1574\n",
      "Epoch 2/50\n",
      "90/90 [==============================] - ETA: 0s - loss: 1.8388 - accuracy: 0.2781WARNING:tensorflow:Can save best model only with val_acc available, skipping.\n",
      "90/90 [==============================] - 29s 325ms/step - loss: 1.8388 - accuracy: 0.2781 - val_loss: 1.6821 - val_accuracy: 0.3670\n",
      "Epoch 3/50\n",
      "90/90 [==============================] - ETA: 0s - loss: 1.5766 - accuracy: 0.3729WARNING:tensorflow:Can save best model only with val_acc available, skipping.\n",
      "90/90 [==============================] - 29s 322ms/step - loss: 1.5766 - accuracy: 0.3729 - val_loss: 1.5165 - val_accuracy: 0.4199\n",
      "Epoch 4/50\n",
      "90/90 [==============================] - ETA: 0s - loss: 1.4114 - accuracy: 0.4518WARNING:tensorflow:Can save best model only with val_acc available, skipping.\n",
      "90/90 [==============================] - 29s 321ms/step - loss: 1.4114 - accuracy: 0.4518 - val_loss: 1.3838 - val_accuracy: 0.4777\n",
      "Epoch 5/50\n",
      "90/90 [==============================] - ETA: 0s - loss: 1.3060 - accuracy: 0.5033WARNING:tensorflow:Can save best model only with val_acc available, skipping.\n",
      "90/90 [==============================] - 29s 321ms/step - loss: 1.3060 - accuracy: 0.5033 - val_loss: 1.3607 - val_accuracy: 0.4951\n",
      "Epoch 6/50\n",
      "90/90 [==============================] - ETA: 0s - loss: 1.1841 - accuracy: 0.5538WARNING:tensorflow:Can save best model only with val_acc available, skipping.\n",
      "90/90 [==============================] - 29s 318ms/step - loss: 1.1841 - accuracy: 0.5538 - val_loss: 1.2120 - val_accuracy: 0.5578\n",
      "Epoch 7/50\n",
      "90/90 [==============================] - ETA: 0s - loss: 1.1030 - accuracy: 0.5782WARNING:tensorflow:Can save best model only with val_acc available, skipping.\n",
      "90/90 [==============================] - 29s 325ms/step - loss: 1.1030 - accuracy: 0.5782 - val_loss: 1.0978 - val_accuracy: 0.5919\n",
      "Epoch 8/50\n",
      "90/90 [==============================] - ETA: 0s - loss: 1.0347 - accuracy: 0.6184WARNING:tensorflow:Can save best model only with val_acc available, skipping.\n",
      "90/90 [==============================] - 29s 324ms/step - loss: 1.0347 - accuracy: 0.6184 - val_loss: 1.0126 - val_accuracy: 0.6386\n",
      "Epoch 9/50\n",
      "90/90 [==============================] - ETA: 0s - loss: 0.9303 - accuracy: 0.6557WARNING:tensorflow:Can save best model only with val_acc available, skipping.\n",
      "90/90 [==============================] - 29s 325ms/step - loss: 0.9303 - accuracy: 0.6557 - val_loss: 1.0558 - val_accuracy: 0.6198\n",
      "Epoch 10/50\n",
      "90/90 [==============================] - ETA: 0s - loss: 0.8596 - accuracy: 0.6910WARNING:tensorflow:Can save best model only with val_acc available, skipping.\n",
      "90/90 [==============================] - 30s 328ms/step - loss: 0.8596 - accuracy: 0.6910 - val_loss: 0.9857 - val_accuracy: 0.6490\n",
      "Epoch 11/50\n",
      "90/90 [==============================] - ETA: 0s - loss: 0.7680 - accuracy: 0.7231WARNING:tensorflow:Can save best model only with val_acc available, skipping.\n",
      "90/90 [==============================] - 30s 337ms/step - loss: 0.7680 - accuracy: 0.7231 - val_loss: 0.8944 - val_accuracy: 0.6894\n",
      "Epoch 12/50\n",
      "90/90 [==============================] - ETA: 0s - loss: 0.7085 - accuracy: 0.7480WARNING:tensorflow:Can save best model only with val_acc available, skipping.\n",
      "90/90 [==============================] - 29s 322ms/step - loss: 0.7085 - accuracy: 0.7480 - val_loss: 1.1375 - val_accuracy: 0.6379\n",
      "Epoch 13/50\n",
      "90/90 [==============================] - ETA: 0s - loss: 0.6710 - accuracy: 0.7564WARNING:tensorflow:Can save best model only with val_acc available, skipping.\n",
      "90/90 [==============================] - 31s 342ms/step - loss: 0.6710 - accuracy: 0.7564 - val_loss: 0.8785 - val_accuracy: 0.7013\n",
      "Epoch 14/50\n",
      "90/90 [==============================] - ETA: 0s - loss: 0.6325 - accuracy: 0.7750WARNING:tensorflow:Can save best model only with val_acc available, skipping.\n",
      "90/90 [==============================] - 29s 326ms/step - loss: 0.6325 - accuracy: 0.7750 - val_loss: 0.7842 - val_accuracy: 0.7382\n",
      "Epoch 15/50\n",
      "90/90 [==============================] - ETA: 0s - loss: 0.5781 - accuracy: 0.7891WARNING:tensorflow:Can save best model only with val_acc available, skipping.\n",
      "90/90 [==============================] - 30s 328ms/step - loss: 0.5781 - accuracy: 0.7891 - val_loss: 0.7711 - val_accuracy: 0.7423\n",
      "Epoch 16/50\n",
      "90/90 [==============================] - ETA: 0s - loss: 0.5794 - accuracy: 0.7921WARNING:tensorflow:Can save best model only with val_acc available, skipping.\n",
      "90/90 [==============================] - 30s 329ms/step - loss: 0.5794 - accuracy: 0.7921 - val_loss: 0.7788 - val_accuracy: 0.7312\n",
      "Epoch 17/50\n",
      "90/90 [==============================] - ETA: 0s - loss: 0.5290 - accuracy: 0.8130WARNING:tensorflow:Can save best model only with val_acc available, skipping.\n",
      "90/90 [==============================] - 30s 333ms/step - loss: 0.5290 - accuracy: 0.8130 - val_loss: 0.7609 - val_accuracy: 0.7382\n",
      "Epoch 18/50\n",
      "90/90 [==============================] - ETA: 0s - loss: 0.4951 - accuracy: 0.8243WARNING:tensorflow:Can save best model only with val_acc available, skipping.\n",
      "90/90 [==============================] - 29s 325ms/step - loss: 0.4951 - accuracy: 0.8243 - val_loss: 0.6960 - val_accuracy: 0.7639\n",
      "Epoch 19/50\n",
      "90/90 [==============================] - ETA: 0s - loss: 0.4583 - accuracy: 0.8382WARNING:tensorflow:Can save best model only with val_acc available, skipping.\n",
      "90/90 [==============================] - 31s 342ms/step - loss: 0.4583 - accuracy: 0.8382 - val_loss: 0.7335 - val_accuracy: 0.7549\n",
      "Epoch 20/50\n",
      "90/90 [==============================] - ETA: 0s - loss: 0.4366 - accuracy: 0.8445WARNING:tensorflow:Can save best model only with val_acc available, skipping.\n",
      "90/90 [==============================] - 29s 325ms/step - loss: 0.4366 - accuracy: 0.8445 - val_loss: 0.7096 - val_accuracy: 0.7667\n",
      "Epoch 21/50\n",
      "90/90 [==============================] - ETA: 0s - loss: 0.4253 - accuracy: 0.8487WARNING:tensorflow:Can save best model only with val_acc available, skipping.\n",
      "90/90 [==============================] - 29s 327ms/step - loss: 0.4253 - accuracy: 0.8487 - val_loss: 0.6395 - val_accuracy: 0.7960\n",
      "Epoch 22/50\n",
      "90/90 [==============================] - ETA: 0s - loss: 0.3978 - accuracy: 0.8603WARNING:tensorflow:Can save best model only with val_acc available, skipping.\n",
      "90/90 [==============================] - 29s 327ms/step - loss: 0.3978 - accuracy: 0.8603 - val_loss: 0.7109 - val_accuracy: 0.7751\n",
      "Epoch 23/50\n",
      "90/90 [==============================] - ETA: 0s - loss: 0.4133 - accuracy: 0.8535WARNING:tensorflow:Can save best model only with val_acc available, skipping.\n",
      "90/90 [==============================] - 29s 327ms/step - loss: 0.4133 - accuracy: 0.8535 - val_loss: 0.6696 - val_accuracy: 0.7876\n",
      "Epoch 24/50\n",
      "90/90 [==============================] - ETA: 0s - loss: 0.3687 - accuracy: 0.8711WARNING:tensorflow:Can save best model only with val_acc available, skipping.\n",
      "90/90 [==============================] - 30s 330ms/step - loss: 0.3687 - accuracy: 0.8711 - val_loss: 0.6279 - val_accuracy: 0.7890\n",
      "Epoch 25/50\n",
      "90/90 [==============================] - ETA: 0s - loss: 0.3741 - accuracy: 0.8657WARNING:tensorflow:Can save best model only with val_acc available, skipping.\n",
      "90/90 [==============================] - 30s 334ms/step - loss: 0.3741 - accuracy: 0.8657 - val_loss: 0.7149 - val_accuracy: 0.7744\n",
      "Epoch 26/50\n",
      "90/90 [==============================] - ETA: 0s - loss: 0.3437 - accuracy: 0.8765WARNING:tensorflow:Can save best model only with val_acc available, skipping.\n",
      "90/90 [==============================] - 30s 329ms/step - loss: 0.3437 - accuracy: 0.8765 - val_loss: 0.7357 - val_accuracy: 0.7751\n",
      "Epoch 27/50\n",
      "90/90 [==============================] - ETA: 0s - loss: 0.3081 - accuracy: 0.8924WARNING:tensorflow:Can save best model only with val_acc available, skipping.\n",
      "90/90 [==============================] - 30s 328ms/step - loss: 0.3081 - accuracy: 0.8924 - val_loss: 0.6225 - val_accuracy: 0.7981\n"
     ]
    },
    {
     "name": "stdout",
     "output_type": "stream",
     "text": [
      "Epoch 28/50\n",
      "90/90 [==============================] - ETA: 0s - loss: 0.3225 - accuracy: 0.8851WARNING:tensorflow:Can save best model only with val_acc available, skipping.\n",
      "90/90 [==============================] - 29s 325ms/step - loss: 0.3225 - accuracy: 0.8851 - val_loss: 0.5931 - val_accuracy: 0.8064\n",
      "Epoch 29/50\n",
      "90/90 [==============================] - ETA: 0s - loss: 0.3166 - accuracy: 0.8910WARNING:tensorflow:Can save best model only with val_acc available, skipping.\n",
      "90/90 [==============================] - 30s 329ms/step - loss: 0.3166 - accuracy: 0.8910 - val_loss: 0.7079 - val_accuracy: 0.7806\n",
      "Epoch 30/50\n",
      "90/90 [==============================] - ETA: 0s - loss: 0.3088 - accuracy: 0.8959WARNING:tensorflow:Can save best model only with val_acc available, skipping.\n",
      "90/90 [==============================] - 29s 327ms/step - loss: 0.3088 - accuracy: 0.8959 - val_loss: 0.6287 - val_accuracy: 0.8043\n",
      "Epoch 31/50\n",
      "90/90 [==============================] - ETA: 0s - loss: 0.2818 - accuracy: 0.9020WARNING:tensorflow:Can save best model only with val_acc available, skipping.\n",
      "90/90 [==============================] - 29s 327ms/step - loss: 0.2818 - accuracy: 0.9020 - val_loss: 0.7214 - val_accuracy: 0.8043\n",
      "Epoch 32/50\n",
      "90/90 [==============================] - ETA: 0s - loss: 0.2773 - accuracy: 0.9025WARNING:tensorflow:Can save best model only with val_acc available, skipping.\n",
      "90/90 [==============================] - 29s 322ms/step - loss: 0.2773 - accuracy: 0.9025 - val_loss: 0.7342 - val_accuracy: 0.7834\n",
      "Epoch 33/50\n",
      "90/90 [==============================] - ETA: 0s - loss: 0.2867 - accuracy: 0.9006WARNING:tensorflow:Can save best model only with val_acc available, skipping.\n",
      "90/90 [==============================] - 29s 325ms/step - loss: 0.2867 - accuracy: 0.9006 - val_loss: 0.6611 - val_accuracy: 0.8078\n",
      "Epoch 34/50\n",
      "90/90 [==============================] - ETA: 0s - loss: 0.2729 - accuracy: 0.9084WARNING:tensorflow:Can save best model only with val_acc available, skipping.\n",
      "90/90 [==============================] - 30s 329ms/step - loss: 0.2729 - accuracy: 0.9084 - val_loss: 0.7575 - val_accuracy: 0.7765\n",
      "Epoch 35/50\n",
      "90/90 [==============================] - ETA: 0s - loss: 0.2508 - accuracy: 0.9122WARNING:tensorflow:Can save best model only with val_acc available, skipping.\n",
      "90/90 [==============================] - 30s 332ms/step - loss: 0.2508 - accuracy: 0.9122 - val_loss: 0.6752 - val_accuracy: 0.8036\n",
      "Epoch 36/50\n",
      "90/90 [==============================] - ETA: 0s - loss: 0.2682 - accuracy: 0.9044WARNING:tensorflow:Can save best model only with val_acc available, skipping.\n",
      "90/90 [==============================] - 29s 324ms/step - loss: 0.2682 - accuracy: 0.9044 - val_loss: 0.7318 - val_accuracy: 0.7904\n",
      "Epoch 37/50\n",
      "90/90 [==============================] - ETA: 0s - loss: 0.2482 - accuracy: 0.9138WARNING:tensorflow:Can save best model only with val_acc available, skipping.\n",
      "90/90 [==============================] - 30s 332ms/step - loss: 0.2482 - accuracy: 0.9138 - val_loss: 0.7198 - val_accuracy: 0.7981\n",
      "Epoch 38/50\n",
      "90/90 [==============================] - ETA: 0s - loss: 0.2347 - accuracy: 0.9199WARNING:tensorflow:Can save best model only with val_acc available, skipping.\n",
      "90/90 [==============================] - 29s 327ms/step - loss: 0.2347 - accuracy: 0.9199 - val_loss: 0.6949 - val_accuracy: 0.7987\n",
      "Epoch 38: early stopping\n"
     ]
    }
   ],
   "source": [
    "history=model.fit(X_train, y_train ,epochs=50, callbacks=[es,mc], batch_size=64, validation_data=(X_test,y_test))"
   ]
  },
  {
   "cell_type": "markdown",
   "id": "0d85975e",
   "metadata": {},
   "source": [
    "## Plot Model Performance"
   ]
  },
  {
   "cell_type": "code",
   "execution_count": 160,
   "id": "36ddbfb8",
   "metadata": {},
   "outputs": [
    {
     "data": {
      "image/png": "[encoded data removed]",
      "text/plain": [
       "<Figure size 640x480 with 1 Axes>"
      ]
     },
     "metadata": {},
     "output_type": "display_data"
    }
   ],
   "source": [
    "plt.plot(history.history['loss'], label='train_loss') \n",
    "plt.plot(history.history['val_loss'], label='test_loss') \n",
    "plt.plot(history.history['accuracy'], label='train_acc') \n",
    "plt.plot(history.history['val_accuracy'], label='test_acc')\n",
    "plt.legend() \n",
    "plt.show()"
   ]
  },
  {
   "cell_type": "code",
   "execution_count": 175,
   "id": "da4c3bff",
   "metadata": {},
   "outputs": [
    {
     "name": "stdout",
     "output_type": "stream",
     "text": [
      "1/1 [==============================] - 0s 27ms/step\n"
     ]
    }
   ],
   "source": [
    "y,sr = librosa.load(audio_paths[9], sr=8000)\n",
    "pred = np.argmax(model.predict([[np.array(y).reshape(-1,8000,1)]]))"
   ]
  },
  {
   "cell_type": "code",
   "execution_count": 176,
   "id": "298fbf0b",
   "metadata": {},
   "outputs": [
    {
     "data": {
      "text/plain": [
       "0"
      ]
     },
     "execution_count": 176,
     "metadata": {},
     "output_type": "execute_result"
    }
   ],
   "source": [
    "pred"
   ]
  },
  {
   "cell_type": "code",
   "execution_count": 162,
   "id": "8d517f7e",
   "metadata": {},
   "outputs": [
    {
     "name": "stdout",
     "output_type": "stream",
     "text": [
      "45/45 [==============================] - 2s 36ms/step\n"
     ]
    }
   ],
   "source": [
    "y_pred = model.predict(X_test)\n",
    "y_pred = np.argmax(y_pred,axis=-1)"
   ]
  },
  {
   "cell_type": "markdown",
   "id": "f4651eed",
   "metadata": {},
   "source": [
    "## Classification Report"
   ]
  },
  {
   "cell_type": "code",
   "execution_count": 163,
   "id": "97b2efd8",
   "metadata": {},
   "outputs": [
    {
     "name": "stdout",
     "output_type": "stream",
     "text": [
      "              precision    recall  f1-score   support\n",
      "\n",
      "           0       0.76      0.84      0.80       173\n",
      "           1       0.81      0.67      0.73       192\n",
      "           2       0.82      0.68      0.74       186\n",
      "           3       0.73      0.84      0.78       173\n",
      "           4       0.93      0.89      0.91       157\n",
      "           5       0.88      0.76      0.82       182\n",
      "           6       0.74      0.86      0.79       177\n",
      "           7       0.79      0.86      0.82       196\n",
      "\n",
      "    accuracy                           0.80      1436\n",
      "   macro avg       0.81      0.80      0.80      1436\n",
      "weighted avg       0.80      0.80      0.80      1436\n",
      "\n"
     ]
    }
   ],
   "source": [
    "from sklearn.metrics import classification_report\n",
    "print(classification_report(y_test, y_pred))"
   ]
  },
  {
   "cell_type": "markdown",
   "id": "407dbeb0",
   "metadata": {},
   "source": [
    "## Save Model"
   ]
  },
  {
   "cell_type": "code",
   "execution_count": 164,
   "id": "3658f1f7",
   "metadata": {},
   "outputs": [],
   "source": [
    "#model.save('my_model.h5')"
   ]
  },
  {
   "cell_type": "code",
   "execution_count": null,
   "id": "370d70d8",
   "metadata": {},
   "outputs": [],
   "source": []
  }
 ],
 "metadata": {
  "kernelspec": {
   "display_name": "Python 3 (ipykernel)",
   "language": "python",
   "name": "python3"
  },
  "language_info": {
   "codemirror_mode": {
    "name": "ipython",
    "version": 3
   },
   "file_extension": ".py",
   "mimetype": "text/x-python",
   "name": "python",
   "nbconvert_exporter": "python",
   "pygments_lexer": "ipython3",
   "version": "3.9.13"
  }
 },
 "nbformat": 4,
 "nbformat_minor": 5
}
